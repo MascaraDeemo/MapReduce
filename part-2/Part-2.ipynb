{
 "cells": [
  {
   "cell_type": "code",
   "execution_count": 92,
   "metadata": {},
   "outputs": [],
   "source": [
    "import findspark\n",
    "findspark.init()\n",
    "from pyspark import SparkContext"
   ]
  },
  {
   "cell_type": "code",
   "execution_count": 93,
   "metadata": {},
   "outputs": [],
   "source": [
    "sc = SparkContext(appName='part-2')"
   ]
  },
  {
   "cell_type": "code",
   "execution_count": 94,
   "metadata": {},
   "outputs": [],
   "source": [
    "csv = sc.textFile('AllVideos_short.csv')"
   ]
  },
  {
   "cell_type": "code",
   "execution_count": 95,
   "metadata": {},
   "outputs": [],
   "source": [
    "output_path = 'output'"
   ]
  },
  {
   "cell_type": "code",
   "execution_count": 96,
   "metadata": {},
   "outputs": [
    {
     "data": {
      "text/plain": [
       "['video_id,trending_date,category_id,category,publish_time,views,likes,dislikes,comment_count,ratings_disabled,video_error_or_removed,country',\n",
       " 'SbOwzAl9ZfQ,17.14.11,24,Entertainment,2017-11-13T06:06:22.000Z,310130,4182,361,1836,False,False,MX']"
      ]
     },
     "execution_count": 96,
     "metadata": {},
     "output_type": "execute_result"
    }
   ],
   "source": [
    "csv.take(2)"
   ]
  },
  {
   "cell_type": "code",
   "execution_count": 97,
   "metadata": {},
   "outputs": [],
   "source": [
    "def mapper(line):\n",
    "    line = line.strip()\n",
    "    part = line.split(',')\n",
    "    vid = part[0].strip()\n",
    "    trending_date = part[1].strip()\n",
    "    category = part[3].strip()\n",
    "    likes = part[6].strip()\n",
    "    dislikes = part[7].strip()\n",
    "    country = part[11].strip()\n",
    "    key = vid + '/' + country + '/' + category\n",
    "    value = trending_date + '/' + likes + '/' + dislikes\n",
    "    return key, value"
   ]
  },
  {
   "cell_type": "code",
   "execution_count": 98,
   "metadata": {},
   "outputs": [],
   "source": [
    "csvNoHead = csv.zipWithIndex().filter(lambda tup: tup[1] > 0).keys()\n",
    "\n",
    "after_map = csvNoHead.map(mapper)"
   ]
  },
  {
   "cell_type": "code",
   "execution_count": 99,
   "metadata": {},
   "outputs": [
    {
     "data": {
      "text/plain": [
       "[('SbOwzAl9ZfQ/MX/Entertainment', '17.14.11/4182/361'),\n",
       " ('klOV6Xh-DnI/MX/People & Blogs', '17.14.11/271/174'),\n",
       " ('6L2ZF7Qzsbk/MX/News & Politics', '17.14.11/10105/266'),\n",
       " ('hcY52MFWMDM/MX/News & Politics', '17.14.11/378/171'),\n",
       " ('_OXDcGPVAa4/MX/Howto & Style', '17.14.11/57781/681'),\n",
       " ('Q9kK6NWZR1U/MX/Music', '17.14.11/506/67'),\n",
       " ('c9VTD3n_IDs/MX/People & Blogs', '17.14.11/2277/69'),\n",
       " ('XzULSsZYMRc/MX/News & Politics', '17.14.11/7745/659'),\n",
       " ('uijjYNtl_UM/MX/Entertainment', '17.14.11/20155/912'),\n",
       " ('cOJ68MQm2ac/MX/Entertainment', '17.14.11/83582/2194')]"
      ]
     },
     "execution_count": 99,
     "metadata": {},
     "output_type": "execute_result"
    }
   ],
   "source": [
    "after_map.collect()[0:10]"
   ]
  },
  {
   "cell_type": "code",
   "execution_count": 100,
   "metadata": {},
   "outputs": [],
   "source": [
    "def calculate_difference(value):\n",
    "    line_in_iterator = [i for i in value]\n",
    "    likes_dislikes = [[0,0],[0,0]]\n",
    "    difference = [0,0]\n",
    "    if len(line_in_iterator) >1:\n",
    "        for i in range(2):\n",
    "            split = line_in_iterator[i].split(\"/\")\n",
    "            likes_dislikes[i][0] = int(split[1])\n",
    "            likes_dislikes[i][1] = int(split[2])\n",
    "        \n",
    "        difference[0] = likes_dislikes[1][0] - likes_dislikes[0][0]\n",
    "        difference[1] = likes_dislikes[1][1] - likes_dislikes[0][1]\n",
    "        result = difference[1] - difference[0]\n",
    "        return result\n",
    "    return 0\n",
    "\n",
    "        "
   ]
  },
  {
   "cell_type": "code",
   "execution_count": 101,
   "metadata": {},
   "outputs": [],
   "source": [
    "after_calculate = after_map.groupByKey().mapValues(calculate_difference)\n"
   ]
  },
  {
   "cell_type": "code",
   "execution_count": 102,
   "metadata": {},
   "outputs": [
    {
     "data": {
      "text/plain": [
       "[('SbOwzAl9ZfQ/MX/Entertainment', -1517),\n",
       " ('klOV6Xh-DnI/MX/People & Blogs', 0),\n",
       " ('_OXDcGPVAa4/MX/Howto & Style', -34377),\n",
       " ('Q9kK6NWZR1U/MX/Music', 0),\n",
       " ('c9VTD3n_IDs/MX/People & Blogs', -1463),\n",
       " ('XzULSsZYMRc/MX/News & Politics', 0),\n",
       " ('uijjYNtl_UM/MX/Entertainment', 0),\n",
       " ('rZZEeeAVgog/MX/Comedy', 0),\n",
       " ('kTT472QeJGg/MX/People & Blogs', 0),\n",
       " ('7jmJtdqI6YE/MX/Entertainment', -116)]"
      ]
     },
     "execution_count": 102,
     "metadata": {},
     "output_type": "execute_result"
    }
   ],
   "source": [
    "after_calculate.collect()[:10]"
   ]
  },
  {
   "cell_type": "code",
   "execution_count": 103,
   "metadata": {},
   "outputs": [],
   "source": [
    "sortedByResult = after_calculate.sortBy(lambda a: a[1],0)"
   ]
  },
  {
   "cell_type": "code",
   "execution_count": 104,
   "metadata": {},
   "outputs": [
    {
     "data": {
      "text/plain": [
       "[('BEePFpC9qG8/DE/Film & Animation', 366556),\n",
       " ('RmZ3DPJQo2k/KR/Music', 334594),\n",
       " ('1Aoc-cd9eYs/GB/Entertainment', 192222),\n",
       " ('QwZT7T-TXT0/US/Entertainment', 189608),\n",
       " ('QwZT7T-TXT0/GB/Entertainment', 189605),\n",
       " ('PfLCyR6Efvw/GB/Music', 106418),\n",
       " ('ZGEoqPpJQLE/DE/Music', 98934),\n",
       " ('ZGEoqPpJQLE/RU/Music', 98930),\n",
       " ('84LBjXaeKk4/RU/Entertainment', 93961),\n",
       " ('84LBjXaeKk4/FR/Entertainment', 93961)]"
      ]
     },
     "execution_count": 104,
     "metadata": {},
     "output_type": "execute_result"
    }
   ],
   "source": [
    "sortedByResult.collect()[:10]"
   ]
  },
  {
   "cell_type": "code",
   "execution_count": 105,
   "metadata": {},
   "outputs": [],
   "source": [
    "def mapToFormat(line):\n",
    "    overall = line[0]\n",
    "    result = line[1]\n",
    "    splited = overall.split('/')\n",
    "    vid = splited[0]\n",
    "    country = splited[1]\n",
    "    category = splited[2]\n",
    "    key = vid\n",
    "    value = str(result) + ',' + category + ',' + country\n",
    "    return key, value\n",
    "    "
   ]
  },
  {
   "cell_type": "code",
   "execution_count": 106,
   "metadata": {},
   "outputs": [],
   "source": [
    "answer = sortedByResult.map(mapToFormat)"
   ]
  },
  {
   "cell_type": "code",
   "execution_count": 118,
   "metadata": {},
   "outputs": [],
   "source": [
    "output = answer.collect()[:10]"
   ]
  },
  {
   "cell_type": "code",
   "execution_count": null,
   "metadata": {},
   "outputs": [],
   "source": [
    "output1 = sc.parallelize(output)"
   ]
  },
  {
   "cell_type": "code",
   "execution_count": 120,
   "metadata": {},
   "outputs": [],
   "source": [
    "output1.saveAsTextFile(output_path)"
   ]
  },
  {
   "cell_type": "code",
   "execution_count": 91,
   "metadata": {},
   "outputs": [],
   "source": [
    "sc.stop()"
   ]
  }
 ],
 "metadata": {
  "kernelspec": {
   "display_name": "Python 3",
   "language": "python",
   "name": "python3"
  },
  "language_info": {
   "codemirror_mode": {
    "name": "ipython",
    "version": 3
   },
   "file_extension": ".py",
   "mimetype": "text/x-python",
   "name": "python",
   "nbconvert_exporter": "python",
   "pygments_lexer": "ipython3",
   "version": "3.7.0"
  }
 },
 "nbformat": 4,
 "nbformat_minor": 2
}
